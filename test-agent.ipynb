{
 "cells": [
  {
   "cell_type": "code",
   "execution_count": 68,
   "metadata": {},
   "outputs": [
    {
     "name": "stdout",
     "output_type": "stream",
     "text": [
      "bdb5225e5d480b19f45e4e858fd8b90c535d26bc\n"
     ]
    }
   ],
   "source": [
    "from dotenv import load_dotenv\n",
    "import os\n",
    "load_dotenv()\n",
    "\n",
    "print(os.getenv('SERP_KEY'))"
   ]
  },
  {
   "cell_type": "code",
   "execution_count": 75,
   "metadata": {},
   "outputs": [
    {
     "name": "stdout",
     "output_type": "stream",
     "text": [
      "[{'title': 'Zach Wilson - Founder - DataExpert.io', 'link': 'https://www.linkedin.com/in/eczachly', 'snippet': 'Many years of data engineering experience doing growth analytics at Facebook, security infrastructure at Netflix, and pricing and availability infrastructure ...', 'position': 1}, {'title': 'Christopher Garzon - Data Engineer Academy', 'link': 'https://www.linkedin.com/in/christopher-garzon-647081101', 'snippet': 'My role as a Data Engineer was to implement the blueprint using Python and Apache Kafka to build real-time data pipelines. Collaborating with Data Analysts, we ...', 'position': 2}, {'title': 'Joe Reis - Salt Lake City, Utah, United States', 'link': 'https://www.linkedin.com/in/josephreis', 'snippet': \"Best Selling Co-author of Fundamentals of Data Engineering (O'Reilly 2022), Data Engineer… · Location: Salt Lake City. 500+ connections on LinkedIn.\", 'position': 3}, {'title': 'Sean Layer - Data Engineer - The General', 'subtitle': 'Richardson, Texas, United States · Data Engineer · The General®', 'link': 'https://www.linkedin.com/in/sean-layer', 'snippet': \"Today, as a Data Engineer, I'm enthusiastic about creating robust data pipelines, scalable architectures, and data platforms that empower organizations to ...\", 'position': 4}, {'title': 'Zach A - Senior Data Engineer - Stripe', 'subtitle': 'Philadelphia, Pennsylvania, United States · Senior Data Engineer · Stripe', 'link': 'https://www.linkedin.com/in/szaii', 'snippet': 'Senior Data Engineer | Machine Learning Engineer. Stripe Penn State University. Philadelphia, Pennsylvania, United States. 171 followers 166 connections. See ...', 'position': 5}, {'title': 'Jack Goslin - Data Engineer - The Premiere Group', 'subtitle': 'Columbia, Missouri, United States · Data Engineer · The Premiere Group', 'link': 'https://www.linkedin.com/in/jack-goslin', 'snippet': \"I'm focusing on cultivating data literacy and showing what is possible with custom integrations, Slack bots, internal web apps, spreadsheet process automation, ...\", 'position': 6}, {'title': 'Namrata Mali - Data Engineer - Tesla', 'subtitle': 'Fremont, California, United States · Data Engineer · Tesla', 'link': 'https://www.linkedin.com/in/namratam26', 'snippet': 'Detail-oriented and results-driven Data Engineer who is passionate about turning raw data into valuable insights that drive business growth and success.', 'position': 7}, {'title': 'Tim Frazer 🪂 - Lead Data Architect - Vanguard Charitable', 'link': 'https://www.linkedin.com/in/iamtimfrazer', 'snippet': 'United States. Leading multiple teams in analytics, data engineering, data science, and machine learning. Building the next data platform for Thrive. Thrive ...', 'sitelinks': [{'title': 'Contributions', 'link': 'https://www.linkedin.com/in/iamtimfrazer#:~:text=Contributions,-What%20do%20you%20do%20if'}, {'title': 'Experience', 'link': 'https://www.linkedin.com/in/iamtimfrazer#:~:text=activity-,Experience'}, {'title': 'Licenses & Certifications', 'link': 'https://www.linkedin.com/in/iamtimfrazer#:~:text=Licenses%20%26%20Certifications'}], 'position': 8}, {'title': 'Chandra Bhatt - Data Engineer - Amazon', 'subtitle': 'Philadelphia, Pennsylvania, United States · Data Engineer · Amazon', 'link': 'https://www.linkedin.com/in/chandrabhatt', 'snippet': \"As a Data Engineering Leader at Amazon, I've played a crucial role in developing data architectures and pipelines, driving critical business decisions and ...\", 'sitelinks': [{'title': 'About', 'link': 'https://www.linkedin.com/in/chandrabhatt#:~:text=About,-In%20over%2017%20years%20in'}, {'title': 'Experience', 'link': 'https://www.linkedin.com/in/chandrabhatt#:~:text=activity-,Experience'}, {'title': 'Licenses & Certifications', 'link': 'https://www.linkedin.com/in/chandrabhatt#:~:text=Licenses%20%26%20Certifications'}], 'position': 9}, {'title': 'Alex R. - Sofwtware Engineer - Data Infrastructure', 'subtitle': 'Seattle, Washington, United States · Sofwtware Engineer - Data Infrastructure · CrowdStrike', 'link': 'https://www.linkedin.com/in/alexrainey', 'snippet': 'I am a software engineer with broad experience in analysis and data engineering. I am passionate about building and organizing systems for data that are quick ...', 'sitelinks': [{'title': 'Software And Big Data...', 'link': 'https://www.linkedin.com/in/alexrainey#:~:text=Software%20and%20Big%20Data%20Engineering'}, {'title': 'Crowdstrike', 'link': 'https://www.linkedin.com/in/alexrainey#:~:text=CrowdStrike,-Seattle%2C%20Washington%2C%20United'}, {'title': 'About', 'link': 'https://www.linkedin.com/in/alexrainey#:~:text=About,-I%20am%20a%20software%20engineer'}], 'position': 10}]\n"
     ]
    }
   ],
   "source": [
    "import requests\n",
    "import json\n",
    "\n",
    "url = \"https://google.serper.dev/search\"\n",
    "\n",
    "payload = json.dumps({\n",
    "  \"q\": \"site:linkedin.com/in/ data engineering united states\"\n",
    "})\n",
    "headers = {\n",
    "  'X-API-KEY': os.getenv('SERP_KEY'),\n",
    "  'Content-Type': 'application/json'\n",
    "}\n",
    "\n",
    "response = requests.request(\"POST\", url, headers=headers, data=payload)\n",
    "data = response.json()\n",
    "\n",
    "print(data['organic'])"
   ]
  },
  {
   "cell_type": "code",
   "execution_count": 77,
   "metadata": {},
   "outputs": [],
   "source": [
    "import csv\n",
    "\n",
    "def write_csv(data):\n",
    "    fieldnames = ['position', 'title', 'link', 'snippet']\n",
    "\n",
    "    with open('leads_data_engineering.csv', 'w', newline='') as csvfile:\n",
    "        writer = csv.DictWriter(csvfile, fieldnames=fieldnames)\n",
    "        writer.writeheader()\n",
    "        for lead in leads:\n",
    "            writer.writerow({\n",
    "                'position': lead['position'],\n",
    "                'title': lead['title'],\n",
    "                'link': lead['link'],\n",
    "                'snippet': lead['snippet']\n",
    "            })\n",
    "\n",
    "leads = data['organic']\n",
    "\n",
    "write_csv(leads)"
   ]
  },
  {
   "cell_type": "code",
   "execution_count": null,
   "metadata": {},
   "outputs": [],
   "source": []
  }
 ],
 "metadata": {
  "kernelspec": {
   "display_name": ".venv",
   "language": "python",
   "name": "python3"
  },
  "language_info": {
   "codemirror_mode": {
    "name": "ipython",
    "version": 3
   },
   "file_extension": ".py",
   "mimetype": "text/x-python",
   "name": "python",
   "nbconvert_exporter": "python",
   "pygments_lexer": "ipython3",
   "version": "3.13.0"
  }
 },
 "nbformat": 4,
 "nbformat_minor": 2
}
