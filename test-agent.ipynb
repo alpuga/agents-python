{
 "cells": [
  {
   "cell_type": "code",
   "execution_count": null,
   "metadata": {},
   "outputs": [],
   "source": [
    "from dotenv import load_dotenv\n",
    "import os\n",
    "load_dotenv()\n",
    "\n",
    "print(os.getenv('SERP_KEY'))"
   ]
  },
  {
   "cell_type": "code",
   "execution_count": null,
   "metadata": {},
   "outputs": [],
   "source": [
    "import requests\n",
    "import json\n",
    "\n",
    "url = \"https://google.serper.dev/search\"\n",
    "\n",
    "payload = json.dumps({\n",
    "  \"q\": \"site:linkedin.com/in/ data engineering united states\"\n",
    "})\n",
    "headers = {\n",
    "  'X-API-KEY': os.getenv('SERP_KEY'),\n",
    "  'Content-Type': 'application/json'\n",
    "}\n",
    "\n",
    "response = requests.request(\"POST\", url, headers=headers, data=payload)\n",
    "data = response.json()\n",
    "\n",
    "print(data['organic'])"
   ]
  },
  {
   "cell_type": "code",
   "execution_count": 77,
   "metadata": {},
   "outputs": [],
   "source": [
    "import csv\n",
    "\n",
    "def write_csv(data):\n",
    "    fieldnames = ['position', 'title', 'link', 'snippet']\n",
    "\n",
    "    with open('leads_data_engineering.csv', 'w', newline='') as csvfile:\n",
    "        writer = csv.DictWriter(csvfile, fieldnames=fieldnames)\n",
    "        writer.writeheader()\n",
    "        for lead in leads:\n",
    "            writer.writerow({\n",
    "                'position': lead['position'],\n",
    "                'title': lead['title'],\n",
    "                'link': lead['link'],\n",
    "                'snippet': lead['snippet']\n",
    "            })\n",
    "\n",
    "leads = data['organic']\n",
    "\n",
    "write_csv(leads)"
   ]
  },
  {
   "cell_type": "code",
   "execution_count": null,
   "metadata": {},
   "outputs": [],
   "source": []
  }
 ],
 "metadata": {
  "kernelspec": {
   "display_name": ".venv",
   "language": "python",
   "name": "python3"
  },
  "language_info": {
   "codemirror_mode": {
    "name": "ipython",
    "version": 3
   },
   "file_extension": ".py",
   "mimetype": "text/x-python",
   "name": "python",
   "nbconvert_exporter": "python",
   "pygments_lexer": "ipython3",
   "version": "3.13.0"
  }
 },
 "nbformat": 4,
 "nbformat_minor": 2
}
